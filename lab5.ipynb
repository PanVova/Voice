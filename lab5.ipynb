{
 "cells": [
  {
   "metadata": {
    "ExecuteTime": {
     "end_time": "2025-06-03T12:17:49.784203Z",
     "start_time": "2025-06-03T12:17:49.781190Z"
    }
   },
   "cell_type": "code",
   "source": [
    "import os\n",
    "\n",
    "import editdistance\n",
    "import librosa\n",
    "import matplotlib.pyplot as plt\n",
    "import numpy as np\n",
    "import soundfile as sf\n",
    "import torch\n",
    "import torch.nn.functional as F\n",
    "from speechbrain.inference import SpeakerRecognition\n",
    "from torch import optim, nn\n",
    "from torch.utils.data import DataLoader\n",
    "from torch.utils.data import Dataset\n",
    "from transformers import GPT2LMHeadModel\n",
    "from transformers import GPT2Tokenizer\n",
    "from transformers import pipeline\n",
    "## IMPORTS ##\n"
   ],
   "id": "initial_id",
   "outputs": [],
   "execution_count": 152
  },
  {
   "metadata": {
    "ExecuteTime": {
     "end_time": "2025-06-03T12:17:49.825271Z",
     "start_time": "2025-06-03T12:17:49.821271Z"
    }
   },
   "cell_type": "code",
   "source": [
    "np.random.seed(42)\n",
    "torch.manual_seed(42)\n",
    "\n",
    "## SEED ##\n"
   ],
   "id": "e03cf226733ff08a",
   "outputs": [
    {
     "data": {
      "text/plain": [
       "<torch._C.Generator at 0x264e7abb450>"
      ]
     },
     "execution_count": 153,
     "metadata": {},
     "output_type": "execute_result"
    }
   ],
   "execution_count": 153
  },
  {
   "metadata": {
    "ExecuteTime": {
     "end_time": "2025-06-03T12:17:50.146906Z",
     "start_time": "2025-06-03T12:17:49.856598Z"
    }
   },
   "cell_type": "code",
   "source": [
    "def parse_line(line):\n",
    "    parts = line.strip().split(\"|\")\n",
    "    if len(parts) < 2:\n",
    "        return None, None\n",
    "    return parts[0], parts[1]\n",
    "\n",
    "\n",
    "class Dataset(Dataset):\n",
    "    def __init__(self, data_folder, metadata_path, tokenizer, n_mels=80, max_mel_len=32, max_text_len=16, max_samples=500):\n",
    "        self.data_folder = data_folder\n",
    "        self.tokenizer = tokenizer\n",
    "        self.n_mels = n_mels\n",
    "        self.max_mel_len = max_mel_len\n",
    "        self.max_text_len = max_text_len\n",
    "        self.items = self._load_metadata(metadata_path, max_samples)\n",
    "\n",
    "    def _load_metadata(self, metadata_path, max_samples):\n",
    "        items = []\n",
    "        with open(metadata_path, encoding='utf-8') as f:\n",
    "            for i, line in enumerate(f):\n",
    "                audio_file, text = parse_line(line)\n",
    "                if not audio_file or not text:\n",
    "                    continue\n",
    "                wav_path = os.path.join(self.data_folder, audio_file + \".wav\")\n",
    "                if os.path.exists(wav_path):\n",
    "                    items.append((wav_path, text))\n",
    "                if len(items) >= max_samples:\n",
    "                    break\n",
    "        return items\n",
    "\n",
    "    def _load_and_process_audio(self, wav_path):\n",
    "        y, sr = librosa.load(wav_path, sr=22050)\n",
    "        mel = librosa.feature.melspectrogram(y=y, sr=sr, n_mels=self.n_mels, hop_length=256)\n",
    "        mel = librosa.power_to_db(mel).astype(np.float32)\n",
    "        return self._pad_or_trim_mel(mel)\n",
    "\n",
    "    def _pad_or_trim_mel(self, mel):\n",
    "        if mel.shape[1] < self.max_mel_len:\n",
    "            pad_width = self.max_mel_len - mel.shape[1]\n",
    "            mel = np.pad(mel, ((0, 0), (0, pad_width)), mode='constant')\n",
    "        else:\n",
    "            mel = mel[:, :self.max_mel_len]\n",
    "        return mel.T\n",
    "\n",
    "    def __len__(self):\n",
    "        return len(self.items)\n",
    "\n",
    "    def __getitem__(self, idx):\n",
    "        wav_path, text = self.items[idx]\n",
    "        mel = self._load_and_process_audio(wav_path)\n",
    "        tokenized = self._tokenize_text(text)\n",
    "        return {\n",
    "            \"input_ids\": tokenized.input_ids.squeeze(0),\n",
    "            \"attention_mask\": tokenized.attention_mask.squeeze(0),\n",
    "            \"mel\": torch.tensor(mel, dtype=torch.float32)\n",
    "        }\n",
    "\n",
    "    def _tokenize_text(self, text):\n",
    "        return self.tokenizer(\n",
    "            text,\n",
    "            return_tensors=\"pt\",\n",
    "            padding='max_length',\n",
    "            max_length=self.max_text_len,\n",
    "            truncation=True\n",
    "        )"
   ],
   "id": "37c7952e4d96e754",
   "outputs": [],
   "execution_count": 154
  },
  {
   "metadata": {
    "ExecuteTime": {
     "end_time": "2025-06-03T12:17:50.180605Z",
     "start_time": "2025-06-03T12:17:50.177152Z"
    }
   },
   "cell_type": "code",
   "source": [
    "class Model(nn.Module):\n",
    "    def __init__(self, out_dim=80):\n",
    "        super().__init__()\n",
    "        self._initialize_model(out_dim)\n",
    "\n",
    "    def _initialize_model(self, out_dim):\n",
    "        self.gpt2 = GPT2LMHeadModel.from_pretrained(\"gpt2\")\n",
    "        self.out_proj = nn.Linear(self.gpt2.config.n_embd, out_dim)\n",
    "\n",
    "    def forward(self, input_ids, attention_mask=None):\n",
    "        hidden = self._extract_hidden_states(input_ids, attention_mask)\n",
    "        return self._project_to_mel(hidden)\n",
    "\n",
    "    def _extract_hidden_states(self, input_ids, attention_mask):\n",
    "        outputs = self.gpt2(input_ids=input_ids, attention_mask=attention_mask, output_hidden_states=True)\n",
    "        return outputs.hidden_states[-1]\n",
    "\n",
    "    def _project_to_mel(self, hidden_states):\n",
    "        return self.out_proj(hidden_states)"
   ],
   "id": "37f63d1722d4e9d",
   "outputs": [],
   "execution_count": 155
  },
  {
   "metadata": {
    "ExecuteTime": {
     "end_time": "2025-06-03T12:17:50.838001Z",
     "start_time": "2025-06-03T12:17:50.211459Z"
    }
   },
   "cell_type": "code",
   "source": "asr = pipeline(\"automatic-speech-recognition\", model=\"openai/whisper-tiny\")",
   "id": "d133c15afd3e09c4",
   "outputs": [
    {
     "name": "stderr",
     "output_type": "stream",
     "text": [
      "Device set to use cuda:0\n"
     ]
    }
   ],
   "execution_count": 156
  },
  {
   "metadata": {
    "ExecuteTime": {
     "end_time": "2025-06-03T12:17:50.869478Z",
     "start_time": "2025-06-03T12:17:50.865006Z"
    }
   },
   "cell_type": "code",
   "source": [
    "\n",
    "def fit_model(net, dataloader, opt, loss_fn, device, num_epochs):\n",
    "    net.train()\n",
    "    total_steps = len(dataloader)\n",
    "\n",
    "    for ep in range(num_epochs):\n",
    "        running_loss = 0\n",
    "        print(f\"🌍 Epoch [{ep + 1}/{num_epochs}]\")\n",
    "\n",
    "        for idx, batch in enumerate(dataloader):\n",
    "            ids, masks, targets = (batch[k].to(device) for k in [\"input_ids\", \"attention_mask\", \"mel\"])\n",
    "\n",
    "            out = net(ids, masks)\n",
    "\n",
    "            out = F.interpolate(out.permute(0, 2, 1), size=targets.shape[1], mode=\"nearest\").permute(0, 2, 1)\n",
    "\n",
    "            loss = loss_fn(out, targets)\n",
    "            opt.zero_grad()\n",
    "            loss.backward()\n",
    "            opt.step()\n",
    "\n",
    "            running_loss += loss.item()\n",
    "            if (idx + 1) % 50 == 0:\n",
    "                print(f\"    ⌛ Batch {idx + 1}/{total_steps} - Batch Loss: {loss.item():.4f}\")\n",
    "\n",
    "        avg_loss = running_loss / total_steps\n",
    "        print(f\"✅ Finished Epoch {ep + 1} - Average Loss: {avg_loss:.4f}\\n\")\n"
   ],
   "id": "91ad6c886dc79c89",
   "outputs": [],
   "execution_count": 157
  },
  {
   "metadata": {
    "ExecuteTime": {
     "end_time": "2025-06-03T12:17:50.900393Z",
     "start_time": "2025-06-03T12:17:50.895571Z"
    }
   },
   "cell_type": "code",
   "source": [
    "def tokenize_text_input(tokenizer, text: str, device: str, max_len: int):\n",
    "    encoded = tokenizer(text, return_tensors=\"pt\", padding=\"max_length\", truncation=True, max_length=max_len)\n",
    "    return encoded.input_ids.to(device), encoded.attention_mask.to(device)\n",
    "\n",
    "\n",
    "def pad_mel_to_length(mel: np.ndarray, target_len: int) -> np.ndarray:\n",
    "    if mel.shape[1] < target_len:\n",
    "        return np.pad(mel, ((0, 0), (0, target_len - mel.shape[1])), mode='constant')\n",
    "    return mel[:, :target_len]\n",
    "\n",
    "\n",
    "def predict_mel_spectrogram(model, tokenizer, text: str, device: str, max_len: int = 32) -> np.ndarray:\n",
    "    model.eval()\n",
    "    with torch.no_grad():\n",
    "        input_ids, attn_mask = tokenize_text_input(tokenizer, text, device, max_len)\n",
    "        mel = model(input_ids, attn_mask)[0].cpu().numpy().T\n",
    "        return pad_mel_to_length(mel, max_len)\n",
    "\n",
    "\n",
    "def synthesize_audio_from_mel(mel_db: np.ndarray, sr: int = 22050) -> np.ndarray:\n",
    "    mel_power = librosa.db_to_power(mel_db)\n",
    "    return librosa.feature.inverse.mel_to_audio(mel_power, sr=sr, n_fft=1024, hop_length=256)\n",
    "\n",
    "\n",
    "def transcribe_waveform(signal: np.ndarray, rate: int = 22050, fname=\"tmp_audio.wav\") -> str:\n",
    "    sf.write(fname, signal, rate)\n",
    "    return asr(fname)['text'].strip()\n",
    "\n",
    "\n",
    "def normalize_text_for_cer(text: str) -> str:\n",
    "    return text.replace(\" \", \"\").lower()\n",
    "\n",
    "\n",
    "def string_distance_metric(predicted: str, target: str) -> float:\n",
    "    pred_clean = normalize_text_for_cer(predicted)\n",
    "    tgt_clean = normalize_text_for_cer(target)\n",
    "    return editdistance.eval(pred_clean, tgt_clean) / max(len(tgt_clean), 1)\n"
   ],
   "id": "cf749455fe815007",
   "outputs": [],
   "execution_count": 158
  },
  {
   "metadata": {
    "ExecuteTime": {
     "end_time": "2025-06-03T12:17:50.932438Z",
     "start_time": "2025-06-03T12:17:50.928433Z"
    }
   },
   "cell_type": "code",
   "source": [
    "def display_mel_spectrogram(mel_matrix, title=\"Mel Spectrogram\"):\n",
    "    plt.figure(figsize=(9, 3.5))\n",
    "    heatmap = plt.imshow(mel_matrix, interpolation=\"nearest\", origin=\"lower\", aspect=\"auto\")\n",
    "    plt.title(title, fontsize=12)\n",
    "    plt.xlabel(\"Time Steps\")\n",
    "    plt.ylabel(\"Frequency Channels\")\n",
    "    cbar = plt.colorbar(heatmap, pad=0.02)\n",
    "    cbar.ax.set_ylabel('dB', rotation=270, labelpad=10)\n",
    "    plt.tight_layout(pad=1.5)\n",
    "    plt.grid(False)\n",
    "    plt.show()\n"
   ],
   "id": "ad46d75951f59119",
   "outputs": [],
   "execution_count": 159
  },
  {
   "metadata": {
    "ExecuteTime": {
     "end_time": "2025-06-03T12:17:50.961982Z",
     "start_time": "2025-06-03T12:17:50.958934Z"
    }
   },
   "cell_type": "code",
   "source": [
    "class Config:\n",
    "    DATA_FOLDER = \"LJSpeech/LJSpeech-1.1/wavs\"\n",
    "    METADATA_PATH = \"LJSpeech/LJSpeech-1.1/metadata.csv\"\n",
    "    BATCH_SIZE = 4\n",
    "    EPOCHS = 30\n",
    "    LR = 5e-5\n",
    "    N_MELS = 80\n",
    "    MAX_MEL_LEN = 32\n",
    "    MAX_TEXT_LEN = 16\n",
    "    MAX_SAMPLES = 500\n",
    "    DEVICE = torch.device(\"cuda\")"
   ],
   "id": "824c29832b91360a",
   "outputs": [],
   "execution_count": 160
  },
  {
   "metadata": {
    "ExecuteTime": {
     "end_time": "2025-06-03T12:17:51.208280Z",
     "start_time": "2025-06-03T12:17:50.991986Z"
    }
   },
   "cell_type": "code",
   "source": [
    "class CustomTokenizer:\n",
    "    def __init__(self, base):\n",
    "        self.tokenizer = base\n",
    "\n",
    "    def add_pad_if_missing(self):\n",
    "        if self.tokenizer.pad_token is None:\n",
    "            self.tokenizer.add_special_tokens({'pad_token': '[PAD]'})\n",
    "        return self\n",
    "\n",
    "    def build(self):\n",
    "        return self.tokenizer\n",
    "\n",
    "tokenizer = CustomTokenizer(GPT2Tokenizer.from_pretrained(\"gpt2\")).add_pad_if_missing().build()"
   ],
   "id": "92831c587f2ee76b",
   "outputs": [],
   "execution_count": 161
  },
  {
   "metadata": {
    "ExecuteTime": {
     "end_time": "2025-06-03T12:17:51.239503Z",
     "start_time": "2025-06-03T12:17:51.236288Z"
    }
   },
   "cell_type": "code",
   "source": [
    "def prepare_loader(config, tokenizer):\n",
    "    dataset = Dataset(\n",
    "        config.DATA_FOLDER,\n",
    "        config.METADATA_PATH,\n",
    "        tokenizer,\n",
    "        n_mels=config.N_MELS,\n",
    "        max_mel_len=config.MAX_MEL_LEN,\n",
    "        max_text_len=config.MAX_TEXT_LEN,\n",
    "        max_samples=config.MAX_SAMPLES\n",
    "    )\n",
    "    return DataLoader(dataset, batch_size=config.BATCH_SIZE, shuffle=True)\n",
    "\n",
    "\n",
    "def prepare_model(config, tokenizer):\n",
    "    model = Model(out_dim=config.N_MELS).to(config.DEVICE)\n",
    "    model.gpt2.resize_token_embeddings(len(tokenizer))\n",
    "    return model"
   ],
   "id": "fc608c722491e574",
   "outputs": [],
   "execution_count": 162
  },
  {
   "metadata": {
    "ExecuteTime": {
     "end_time": "2025-06-03T12:25:33.354471Z",
     "start_time": "2025-06-03T12:17:51.267506Z"
    }
   },
   "cell_type": "code",
   "source": [
    "speech_loader = prepare_loader(Config, tokenizer)\n",
    "acoustic_model = prepare_model(Config, tokenizer)\n",
    "optim_engine = optim.AdamW(acoustic_model.parameters(), lr=Config.LR)\n",
    "loss_metric = nn.MSELoss()\n",
    "\n",
    "fit_model(acoustic_model, speech_loader, optim_engine, loss_metric, Config.DEVICE, Config.EPOCHS)\n"
   ],
   "id": "1bc2c74a5690244f",
   "outputs": [
    {
     "name": "stdout",
     "output_type": "stream",
     "text": [
      "🌍 Epoch [1/30]\n",
      "    ⌛ Batch 50/125 - Batch Loss: 497.4307\n",
      "    ⌛ Batch 100/125 - Batch Loss: 392.6770\n",
      "✅ Finished Epoch 1 - Average Loss: 510.3303\n",
      "\n",
      "🌍 Epoch [2/30]\n",
      "    ⌛ Batch 50/125 - Batch Loss: 291.9357\n",
      "    ⌛ Batch 100/125 - Batch Loss: 209.1880\n",
      "✅ Finished Epoch 2 - Average Loss: 281.3406\n",
      "\n",
      "🌍 Epoch [3/30]\n",
      "    ⌛ Batch 50/125 - Batch Loss: 238.1056\n",
      "    ⌛ Batch 100/125 - Batch Loss: 169.5073\n",
      "✅ Finished Epoch 3 - Average Loss: 209.7423\n",
      "\n",
      "🌍 Epoch [4/30]\n",
      "    ⌛ Batch 50/125 - Batch Loss: 189.0710\n",
      "    ⌛ Batch 100/125 - Batch Loss: 183.0203\n",
      "✅ Finished Epoch 4 - Average Loss: 189.2136\n",
      "\n",
      "🌍 Epoch [5/30]\n",
      "    ⌛ Batch 50/125 - Batch Loss: 192.2150\n",
      "    ⌛ Batch 100/125 - Batch Loss: 161.5286\n",
      "✅ Finished Epoch 5 - Average Loss: 183.8675\n",
      "\n",
      "🌍 Epoch [6/30]\n",
      "    ⌛ Batch 50/125 - Batch Loss: 198.5257\n",
      "    ⌛ Batch 100/125 - Batch Loss: 162.0513\n",
      "✅ Finished Epoch 6 - Average Loss: 177.9564\n",
      "\n",
      "🌍 Epoch [7/30]\n",
      "    ⌛ Batch 50/125 - Batch Loss: 195.7714\n",
      "    ⌛ Batch 100/125 - Batch Loss: 157.5592\n",
      "✅ Finished Epoch 7 - Average Loss: 174.3359\n",
      "\n",
      "🌍 Epoch [8/30]\n",
      "    ⌛ Batch 50/125 - Batch Loss: 117.1316\n",
      "    ⌛ Batch 100/125 - Batch Loss: 172.5428\n",
      "✅ Finished Epoch 8 - Average Loss: 173.4055\n",
      "\n",
      "🌍 Epoch [9/30]\n",
      "    ⌛ Batch 50/125 - Batch Loss: 185.1535\n",
      "    ⌛ Batch 100/125 - Batch Loss: 188.8963\n",
      "✅ Finished Epoch 9 - Average Loss: 172.2938\n",
      "\n",
      "🌍 Epoch [10/30]\n",
      "    ⌛ Batch 50/125 - Batch Loss: 170.9634\n",
      "    ⌛ Batch 100/125 - Batch Loss: 138.9893\n",
      "✅ Finished Epoch 10 - Average Loss: 170.0795\n",
      "\n",
      "🌍 Epoch [11/30]\n",
      "    ⌛ Batch 50/125 - Batch Loss: 173.8748\n",
      "    ⌛ Batch 100/125 - Batch Loss: 207.1637\n",
      "✅ Finished Epoch 11 - Average Loss: 165.0634\n",
      "\n",
      "🌍 Epoch [12/30]\n",
      "    ⌛ Batch 50/125 - Batch Loss: 138.9786\n",
      "    ⌛ Batch 100/125 - Batch Loss: 158.2796\n",
      "✅ Finished Epoch 12 - Average Loss: 159.9847\n",
      "\n",
      "🌍 Epoch [13/30]\n",
      "    ⌛ Batch 50/125 - Batch Loss: 172.1704\n",
      "    ⌛ Batch 100/125 - Batch Loss: 125.7716\n",
      "✅ Finished Epoch 13 - Average Loss: 156.1281\n",
      "\n",
      "🌍 Epoch [14/30]\n",
      "    ⌛ Batch 50/125 - Batch Loss: 172.3342\n",
      "    ⌛ Batch 100/125 - Batch Loss: 129.4670\n",
      "✅ Finished Epoch 14 - Average Loss: 152.5117\n",
      "\n",
      "🌍 Epoch [15/30]\n",
      "    ⌛ Batch 50/125 - Batch Loss: 152.8739\n",
      "    ⌛ Batch 100/125 - Batch Loss: 154.8448\n",
      "✅ Finished Epoch 15 - Average Loss: 149.9475\n",
      "\n",
      "🌍 Epoch [16/30]\n",
      "    ⌛ Batch 50/125 - Batch Loss: 161.4526\n",
      "    ⌛ Batch 100/125 - Batch Loss: 136.0566\n",
      "✅ Finished Epoch 16 - Average Loss: 146.0957\n",
      "\n",
      "🌍 Epoch [17/30]\n",
      "    ⌛ Batch 50/125 - Batch Loss: 158.8219\n",
      "    ⌛ Batch 100/125 - Batch Loss: 128.2474\n",
      "✅ Finished Epoch 17 - Average Loss: 143.4382\n",
      "\n",
      "🌍 Epoch [18/30]\n",
      "    ⌛ Batch 50/125 - Batch Loss: 149.2867\n",
      "    ⌛ Batch 100/125 - Batch Loss: 161.1698\n",
      "✅ Finished Epoch 18 - Average Loss: 138.9410\n",
      "\n",
      "🌍 Epoch [19/30]\n",
      "    ⌛ Batch 50/125 - Batch Loss: 135.6712\n",
      "    ⌛ Batch 100/125 - Batch Loss: 125.7938\n",
      "✅ Finished Epoch 19 - Average Loss: 134.0560\n",
      "\n",
      "🌍 Epoch [20/30]\n",
      "    ⌛ Batch 50/125 - Batch Loss: 145.1845\n",
      "    ⌛ Batch 100/125 - Batch Loss: 140.9213\n",
      "✅ Finished Epoch 20 - Average Loss: 129.0168\n",
      "\n",
      "🌍 Epoch [21/30]\n",
      "    ⌛ Batch 50/125 - Batch Loss: 131.9931\n",
      "    ⌛ Batch 100/125 - Batch Loss: 129.8415\n",
      "✅ Finished Epoch 21 - Average Loss: 122.1664\n",
      "\n",
      "🌍 Epoch [22/30]\n",
      "    ⌛ Batch 50/125 - Batch Loss: 113.4860\n",
      "    ⌛ Batch 100/125 - Batch Loss: 112.9567\n",
      "✅ Finished Epoch 22 - Average Loss: 116.3202\n",
      "\n",
      "🌍 Epoch [23/30]\n",
      "    ⌛ Batch 50/125 - Batch Loss: 114.3432\n",
      "    ⌛ Batch 100/125 - Batch Loss: 103.5698\n",
      "✅ Finished Epoch 23 - Average Loss: 111.9654\n",
      "\n",
      "🌍 Epoch [24/30]\n",
      "    ⌛ Batch 50/125 - Batch Loss: 110.6139\n",
      "    ⌛ Batch 100/125 - Batch Loss: 97.6488\n",
      "✅ Finished Epoch 24 - Average Loss: 107.5037\n",
      "\n",
      "🌍 Epoch [25/30]\n",
      "    ⌛ Batch 50/125 - Batch Loss: 109.8206\n",
      "    ⌛ Batch 100/125 - Batch Loss: 108.7736\n",
      "✅ Finished Epoch 25 - Average Loss: 104.3155\n",
      "\n",
      "🌍 Epoch [26/30]\n",
      "    ⌛ Batch 50/125 - Batch Loss: 94.3939\n",
      "    ⌛ Batch 100/125 - Batch Loss: 117.2536\n",
      "✅ Finished Epoch 26 - Average Loss: 100.9626\n",
      "\n",
      "🌍 Epoch [27/30]\n",
      "    ⌛ Batch 50/125 - Batch Loss: 92.3189\n",
      "    ⌛ Batch 100/125 - Batch Loss: 94.8812\n",
      "✅ Finished Epoch 27 - Average Loss: 98.2695\n",
      "\n",
      "🌍 Epoch [28/30]\n",
      "    ⌛ Batch 50/125 - Batch Loss: 85.5783\n",
      "    ⌛ Batch 100/125 - Batch Loss: 81.5108\n",
      "✅ Finished Epoch 28 - Average Loss: 96.0912\n",
      "\n",
      "🌍 Epoch [29/30]\n",
      "    ⌛ Batch 50/125 - Batch Loss: 101.2150\n",
      "    ⌛ Batch 100/125 - Batch Loss: 94.3934\n",
      "✅ Finished Epoch 29 - Average Loss: 92.9911\n",
      "\n",
      "🌍 Epoch [30/30]\n",
      "    ⌛ Batch 50/125 - Batch Loss: 82.2780\n",
      "    ⌛ Batch 100/125 - Batch Loss: 96.3556\n",
      "✅ Finished Epoch 30 - Average Loss: 90.8208\n",
      "\n"
     ]
    }
   ],
   "execution_count": 163
  },
  {
   "metadata": {
    "ExecuteTime": {
     "end_time": "2025-06-03T12:25:39.679035Z",
     "start_time": "2025-06-03T12:25:33.392975Z"
    }
   },
   "cell_type": "code",
   "source": [
    "samples_for_demo = [\n",
    "    \"Artificial intelligence is transforming the world.\",\n",
    "    \"The quick brown fox jumps over the lazy dog.\",\n",
    "    \"Voice synthesis is an exciting field in deep learning.\"\n",
    "]\n",
    "\n",
    "speaker_encoder = SpeakerRecognition.from_hparams(\n",
    "    source=\"speechbrain/spkrec-ecapa-voxceleb\",\n",
    "    savedir=\"pretrained_models/spkrec-ecapa-voxceleb\"\n",
    ")\n",
    "\n",
    "for original_text in samples_for_demo:\n",
    "    mel_spec = predict_mel_spectrogram(acoustic_model, tokenizer, original_text, Config.DEVICE)\n",
    "    display_mel_spectrogram(mel_spec)\n",
    "\n",
    "    synthetic_wave = synthesize_audio_from_mel(mel_spec)\n",
    "    transcription = transcribe_waveform(synthetic_wave)\n",
    "    distance = string_distance_metric(transcription.lower(), original_text.lower())\n",
    "\n",
    "    print(f\"🎯 Expected : {original_text}\")\n",
    "    print(f\"🗣️ Transcribed : {transcription}\")\n",
    "    print(f\"📉 CER: {distance:.4f}\")\n",
    "    print(\"-\" * 60)\n"
   ],
   "id": "4f2045108597c45c",
   "outputs": [
    {
     "data": {
      "text/plain": [
       "<Figure size 900x350 with 2 Axes>"
      ],
      "image/png": "[encoded data removed]"
     },
     "metadata": {},
     "output_type": "display_data"
    },
    {
     "name": "stdout",
     "output_type": "stream",
     "text": [
      "🎯 Expected : Artificial intelligence is transforming the world.\n",
      "🗣️ Transcribed : you\n",
      "📉 CER: 0.9778\n",
      "------------------------------------------------------------\n"
     ]
    },
    {
     "data": {
      "text/plain": [
       "<Figure size 900x350 with 2 Axes>"
      ],
      "image/png": "[encoded data removed]"
     },
     "metadata": {},
     "output_type": "display_data"
    },
    {
     "name": "stdout",
     "output_type": "stream",
     "text": [
      "🎯 Expected : The quick brown fox jumps over the lazy dog.\n",
      "🗣️ Transcribed : Thank you.\n",
      "📉 CER: 0.8333\n",
      "------------------------------------------------------------\n"
     ]
    },
    {
     "data": {
      "text/plain": [
       "<Figure size 900x350 with 2 Axes>"
      ],
      "image/png": "[encoded data removed]"
     },
     "metadata": {},
     "output_type": "display_data"
    },
    {
     "name": "stdout",
     "output_type": "stream",
     "text": [
      "🎯 Expected : Voice synthesis is an exciting field in deep learning.\n",
      "🗣️ Transcribed : you\n",
      "📉 CER: 0.9783\n",
      "------------------------------------------------------------\n"
     ]
    }
   ],
   "execution_count": 164
  }
 ],
 "metadata": {
  "kernelspec": {
   "display_name": "Python 3",
   "language": "python",
   "name": "python3"
  },
  "language_info": {
   "codemirror_mode": {
    "name": "ipython",
    "version": 2
   },
   "file_extension": ".py",
   "mimetype": "text/x-python",
   "name": "python",
   "nbconvert_exporter": "python",
   "pygments_lexer": "ipython2",
   "version": "2.7.6"
  }
 },
 "nbformat": 4,
 "nbformat_minor": 5
}
